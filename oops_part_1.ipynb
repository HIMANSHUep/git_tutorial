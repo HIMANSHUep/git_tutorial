{
  "nbformat": 4,
  "nbformat_minor": 0,
  "metadata": {
    "colab": {
      "provenance": []
    },
    "kernelspec": {
      "name": "python3",
      "display_name": "Python 3"
    },
    "language_info": {
      "name": "python"
    }
  },
  "cells": [
    {
      "cell_type": "code",
      "execution_count": null,
      "metadata": {
        "colab": {
          "base_uri": "https://localhost:8080/",
          "height": 176
        },
        "id": "5hY97t6UQUVQ",
        "outputId": "e9f1afc0-6fee-461f-8359-e00d6131f2fc"
      },
      "outputs": [
        {
          "output_type": "error",
          "ename": "AttributeError",
          "evalue": "'list' object has no attribute 'upper'",
          "traceback": [
            "\u001b[0;31m---------------------------------------------------------------------------\u001b[0m",
            "\u001b[0;31mAttributeError\u001b[0m                            Traceback (most recent call last)",
            "\u001b[0;32m<ipython-input-1-093068de150f>\u001b[0m in \u001b[0;36m<cell line: 3>\u001b[0;34m()\u001b[0m\n\u001b[1;32m      1\u001b[0m \u001b[0ml\u001b[0m \u001b[0;34m=\u001b[0m \u001b[0;34m[\u001b[0m\u001b[0;36m1\u001b[0m\u001b[0;34m,\u001b[0m\u001b[0;36m2\u001b[0m\u001b[0;34m,\u001b[0m\u001b[0;36m3\u001b[0m\u001b[0;34m,\u001b[0m\u001b[0;36m4\u001b[0m\u001b[0;34m]\u001b[0m\u001b[0;34m\u001b[0m\u001b[0;34m\u001b[0m\u001b[0m\n\u001b[1;32m      2\u001b[0m \u001b[0;34m\u001b[0m\u001b[0m\n\u001b[0;32m----> 3\u001b[0;31m \u001b[0ml\u001b[0m\u001b[0;34m.\u001b[0m\u001b[0mupper\u001b[0m\u001b[0;34m(\u001b[0m\u001b[0;34m)\u001b[0m\u001b[0;34m\u001b[0m\u001b[0;34m\u001b[0m\u001b[0m\n\u001b[0m",
            "\u001b[0;31mAttributeError\u001b[0m: 'list' object has no attribute 'upper'"
          ]
        }
      ],
      "source": [
        "l = [1,2,3,4]\n",
        "\n",
        "l.upper() ## way to access attribute or method of a class by an object of that class"
      ]
    },
    {
      "cell_type": "code",
      "source": [
        "l = list([1,2,3])\n",
        "l.upper()"
      ],
      "metadata": {
        "colab": {
          "base_uri": "https://localhost:8080/",
          "height": 159
        },
        "id": "SDxYYO83QoK_",
        "outputId": "a4a544c9-8efe-40ae-e760-eb7f20e821c2"
      },
      "execution_count": null,
      "outputs": [
        {
          "output_type": "error",
          "ename": "AttributeError",
          "evalue": "'list' object has no attribute 'upper'",
          "traceback": [
            "\u001b[0;31m---------------------------------------------------------------------------\u001b[0m",
            "\u001b[0;31mAttributeError\u001b[0m                            Traceback (most recent call last)",
            "\u001b[0;32m<ipython-input-5-bfc25604562e>\u001b[0m in \u001b[0;36m<cell line: 2>\u001b[0;34m()\u001b[0m\n\u001b[1;32m      1\u001b[0m \u001b[0ml\u001b[0m \u001b[0;34m=\u001b[0m \u001b[0mlist\u001b[0m\u001b[0;34m(\u001b[0m\u001b[0;34m[\u001b[0m\u001b[0;36m1\u001b[0m\u001b[0;34m,\u001b[0m\u001b[0;36m2\u001b[0m\u001b[0;34m,\u001b[0m\u001b[0;36m3\u001b[0m\u001b[0;34m]\u001b[0m\u001b[0;34m)\u001b[0m\u001b[0;34m\u001b[0m\u001b[0;34m\u001b[0m\u001b[0m\n\u001b[0;32m----> 2\u001b[0;31m \u001b[0ml\u001b[0m\u001b[0;34m.\u001b[0m\u001b[0mupper\u001b[0m\u001b[0;34m(\u001b[0m\u001b[0;34m)\u001b[0m\u001b[0;34m\u001b[0m\u001b[0;34m\u001b[0m\u001b[0m\n\u001b[0m",
            "\u001b[0;31mAttributeError\u001b[0m: 'list' object has no attribute 'upper'"
          ]
        }
      ]
    },
    {
      "cell_type": "code",
      "source": [
        "type(1)"
      ],
      "metadata": {
        "colab": {
          "base_uri": "https://localhost:8080/"
        },
        "id": "3ukKKGc1R82l",
        "outputId": "ef848bb1-a82d-4ed9-ab54-24956dca6f90"
      },
      "execution_count": null,
      "outputs": [
        {
          "output_type": "execute_result",
          "data": {
            "text/plain": [
              "int"
            ]
          },
          "metadata": {},
          "execution_count": 8
        }
      ]
    },
    {
      "cell_type": "code",
      "source": [
        "print(type(l))"
      ],
      "metadata": {
        "colab": {
          "base_uri": "https://localhost:8080/"
        },
        "id": "e0GRjwFzRzAr",
        "outputId": "5f40506d-e185-4b80-f947-b5bb6096bd5f"
      },
      "execution_count": null,
      "outputs": [
        {
          "output_type": "stream",
          "name": "stdout",
          "text": [
            "<class 'list'>\n"
          ]
        }
      ]
    },
    {
      "cell_type": "code",
      "source": [
        "s = 'hello'\n",
        "s.append('x')"
      ],
      "metadata": {
        "colab": {
          "base_uri": "https://localhost:8080/",
          "height": 159
        },
        "id": "MnUX8-fpRYN5",
        "outputId": "20e00fcd-bdff-4b90-c68d-66658dcc1e90"
      },
      "execution_count": null,
      "outputs": [
        {
          "output_type": "error",
          "ename": "AttributeError",
          "evalue": "'str' object has no attribute 'append'",
          "traceback": [
            "\u001b[0;31m---------------------------------------------------------------------------\u001b[0m",
            "\u001b[0;31mAttributeError\u001b[0m                            Traceback (most recent call last)",
            "\u001b[0;32m<ipython-input-6-2cb7c5babec0>\u001b[0m in \u001b[0;36m<cell line: 2>\u001b[0;34m()\u001b[0m\n\u001b[1;32m      1\u001b[0m \u001b[0ms\u001b[0m \u001b[0;34m=\u001b[0m \u001b[0;34m'hello'\u001b[0m\u001b[0;34m\u001b[0m\u001b[0;34m\u001b[0m\u001b[0m\n\u001b[0;32m----> 2\u001b[0;31m \u001b[0ms\u001b[0m\u001b[0;34m.\u001b[0m\u001b[0mappend\u001b[0m\u001b[0;34m(\u001b[0m\u001b[0;34m'x'\u001b[0m\u001b[0;34m)\u001b[0m\u001b[0;34m\u001b[0m\u001b[0;34m\u001b[0m\u001b[0m\n\u001b[0m",
            "\u001b[0;31mAttributeError\u001b[0m: 'str' object has no attribute 'append'"
          ]
        }
      ]
    },
    {
      "cell_type": "code",
      "source": [
        "print(type(s))"
      ],
      "metadata": {
        "colab": {
          "base_uri": "https://localhost:8080/"
        },
        "id": "4qBq5fBNRupH",
        "outputId": "1d132b82-e300-4835-dc60-5c1a4dce9cef"
      },
      "execution_count": null,
      "outputs": [
        {
          "output_type": "stream",
          "name": "stdout",
          "text": [
            "<class 'str'>\n"
          ]
        }
      ]
    },
    {
      "cell_type": "code",
      "source": [
        "\n",
        "class Smartphone:\n",
        "\n",
        "    def __init__(self,brand,model,storage,battery,color):\n",
        "        self.brand = brand\n",
        "        self.model = model\n",
        "        self.storage = storage\n",
        "        self.battery = battery\n",
        "        self.color = color\n",
        "        print(f'look, I am init and I got called as soon as you created an object named {self.brand} and my color is {self.color}')\n",
        "\n",
        "    def make_call(self,phone_number):\n",
        "        print(f'calling {phone_number} from {self.model} which belongs {self.brand}')\n",
        "\n",
        "    # def play_game(self,game_name):\n",
        "    #     print(f'playing {game_name}....')\n",
        "\n",
        "    def send_message(self,phone_number,message):\n",
        "        print(f'sending {message} to {phone_number} from {self.model}')\n",
        "\n",
        "    def conference_call(self,pn1,pn2,pn3):\n",
        "        print(f'calling {pn1},{pn2},{pn3}) from {self.model} which belongs to {self.brand}')\n",
        "\n"
      ],
      "metadata": {
        "id": "RqB9yxWqSDTQ"
      },
      "execution_count": null,
      "outputs": []
    },
    {
      "cell_type": "code",
      "source": [
        "iphone = Smartphone() ## basic way to create an object without passing arguments"
      ],
      "metadata": {
        "id": "JtWz0ouzX41W"
      },
      "execution_count": null,
      "outputs": []
    },
    {
      "cell_type": "code",
      "source": [
        "iphone = Smartphone('Apple','promax','1tb','5000mah','titanium')"
      ],
      "metadata": {
        "colab": {
          "base_uri": "https://localhost:8080/"
        },
        "id": "36L3SpNrSH_W",
        "outputId": "4ec29249-2c76-4041-ce99-64389bfb3c3e"
      },
      "execution_count": null,
      "outputs": [
        {
          "output_type": "stream",
          "name": "stdout",
          "text": [
            "look, I am init and I got called as soon as you created an object named Apple and my color is titanium\n"
          ]
        }
      ]
    },
    {
      "cell_type": "code",
      "source": [
        "samsung = Smartphone('Samsung','galaxy','256gb','4000mah','black')"
      ],
      "metadata": {
        "colab": {
          "base_uri": "https://localhost:8080/"
        },
        "id": "ZjUzrTWcSH8w",
        "outputId": "2177fcb9-1ca2-4c69-ecc3-65fd18829df6"
      },
      "execution_count": null,
      "outputs": [
        {
          "output_type": "stream",
          "name": "stdout",
          "text": [
            "look, I am init and I got called as soon as you created an object named Samsung and my color is black\n"
          ]
        }
      ]
    },
    {
      "cell_type": "code",
      "source": [
        "iphone.conference_call('9999999999','8888888888','7777777777')"
      ],
      "metadata": {
        "colab": {
          "base_uri": "https://localhost:8080/"
        },
        "id": "zHATz2XPSH6K",
        "outputId": "d2560d49-c821-417d-f2bf-f496896671e9"
      },
      "execution_count": null,
      "outputs": [
        {
          "output_type": "stream",
          "name": "stdout",
          "text": [
            "calling 9999999999,8888888888,7777777777) from promax which belongs to Apple\n"
          ]
        }
      ]
    },
    {
      "cell_type": "code",
      "source": [
        "iphone.send_message('9999999999','hello')"
      ],
      "metadata": {
        "colab": {
          "base_uri": "https://localhost:8080/"
        },
        "id": "dp63JXSTSH3i",
        "outputId": "87359fd8-3d95-49a6-9d9a-c20236e455bc"
      },
      "execution_count": null,
      "outputs": [
        {
          "output_type": "stream",
          "name": "stdout",
          "text": [
            "sending hello to 9999999999 from promax\n"
          ]
        }
      ]
    },
    {
      "cell_type": "code",
      "source": [
        "class Car:\n",
        "    def __init__(self,brand,model,color,price):\n",
        "        self.brand = brand\n",
        "        self.model = model\n",
        "        self.color = color\n",
        "        self.price = price\n",
        "\n",
        "    def start_engine(self):\n",
        "        print(f'starting engine of {self.brand} {self.model}')\n",
        "\n",
        "    def stop_engine(self):\n",
        "        print(f'stopping engine of {self.brand} {self.model}')\n",
        "\n",
        "    def accelerate(self):\n",
        "        print(f'{self.brand} {self.model} is accelerating')\n",
        "\n",
        "    def brake(self):\n",
        "        print(f'{self.brand} {self.model} is braking')"
      ],
      "metadata": {
        "id": "g5JW86DvSH0a"
      },
      "execution_count": null,
      "outputs": []
    },
    {
      "cell_type": "code",
      "source": [
        "sports_car = Car('porsche','cayman','black','2crores')"
      ],
      "metadata": {
        "id": "QPi9im2uSHxz"
      },
      "execution_count": null,
      "outputs": []
    },
    {
      "cell_type": "code",
      "source": [
        "sports_car.start_engine()"
      ],
      "metadata": {
        "colab": {
          "base_uri": "https://localhost:8080/"
        },
        "id": "lTaxue7SSHvM",
        "outputId": "3ae8ee93-fd65-4c58-922b-617869b2cd0d"
      },
      "execution_count": null,
      "outputs": [
        {
          "output_type": "stream",
          "name": "stdout",
          "text": [
            "starting engine of porsche cayman\n"
          ]
        }
      ]
    },
    {
      "cell_type": "code",
      "source": [],
      "metadata": {
        "id": "wUHpHrZwc1hj"
      },
      "execution_count": null,
      "outputs": []
    }
  ]
}